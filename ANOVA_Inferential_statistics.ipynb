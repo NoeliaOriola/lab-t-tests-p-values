{
 "cells": [
  {
   "cell_type": "code",
   "execution_count": 1,
   "id": "b39a72c4",
   "metadata": {},
   "outputs": [],
   "source": [
    "import pandas as pd\n",
    "from scipy.stats import f_oneway\n"
   ]
  },
  {
   "cell_type": "code",
   "execution_count": 2,
   "id": "d99e4ea6",
   "metadata": {},
   "outputs": [],
   "source": [
    "data = pd.read_excel('anova_lab_data.xlsx')\n"
   ]
  },
  {
   "cell_type": "code",
   "execution_count": 3,
   "id": "9b307f2f",
   "metadata": {},
   "outputs": [
    {
     "data": {
      "text/html": [
       "<div>\n",
       "<style scoped>\n",
       "    .dataframe tbody tr th:only-of-type {\n",
       "        vertical-align: middle;\n",
       "    }\n",
       "\n",
       "    .dataframe tbody tr th {\n",
       "        vertical-align: top;\n",
       "    }\n",
       "\n",
       "    .dataframe thead th {\n",
       "        text-align: right;\n",
       "    }\n",
       "</style>\n",
       "<table border=\"1\" class=\"dataframe\">\n",
       "  <thead>\n",
       "    <tr style=\"text-align: right;\">\n",
       "      <th></th>\n",
       "      <th>Power</th>\n",
       "      <th>Etching Rate</th>\n",
       "    </tr>\n",
       "  </thead>\n",
       "  <tbody>\n",
       "    <tr>\n",
       "      <th>0</th>\n",
       "      <td>160 W</td>\n",
       "      <td>5.43</td>\n",
       "    </tr>\n",
       "    <tr>\n",
       "      <th>1</th>\n",
       "      <td>180 W</td>\n",
       "      <td>6.24</td>\n",
       "    </tr>\n",
       "    <tr>\n",
       "      <th>2</th>\n",
       "      <td>200 W</td>\n",
       "      <td>8.79</td>\n",
       "    </tr>\n",
       "    <tr>\n",
       "      <th>3</th>\n",
       "      <td>160 W</td>\n",
       "      <td>5.71</td>\n",
       "    </tr>\n",
       "    <tr>\n",
       "      <th>4</th>\n",
       "      <td>180 W</td>\n",
       "      <td>6.71</td>\n",
       "    </tr>\n",
       "  </tbody>\n",
       "</table>\n",
       "</div>"
      ],
      "text/plain": [
       "  Power   Etching Rate\n",
       "0  160 W          5.43\n",
       "1  180 W          6.24\n",
       "2  200 W          8.79\n",
       "3  160 W          5.71\n",
       "4  180 W          6.71"
      ]
     },
     "execution_count": 3,
     "metadata": {},
     "output_type": "execute_result"
    }
   ],
   "source": [
    "data.head()"
   ]
  },
  {
   "cell_type": "code",
   "execution_count": null,
   "id": "d72c88e1",
   "metadata": {},
   "outputs": [],
   "source": [
    "#Understand the problem and write down the stpes to set up ANOVA\n",
    "# - Null hypothesis - Alternate hypothesis - Level of significance - Test statistic - P-value - F table"
   ]
  },
  {
   "cell_type": "markdown",
   "id": "ed1207a0",
   "metadata": {},
   "source": [
    "CONTEXT - COLLECTING STEPS TO SETUP ANOVA\n",
    "\n",
    "1. NULL HYPOTHESIS (H0)\n",
    "There is no significant difference in the mean etching rate for different levels of power \n",
    "\n",
    "2. ALTERNATIVE HYPOTHESIS\n",
    "We find difference in the mean etching rate with more than one power level\n",
    "\n",
    "3. SIGNIFICANCE LEVEL, ALPHA\n",
    "Commonly used 0,05 (5%)to determine the statistical significance\n",
    "\n",
    "4. TEST STATISTIC\n",
    "ANOVA: Analysis of Varience.\n",
    "\n",
    "5. P-VALUE\n",
    "Probability of obtaining a test statistic as extreme as the one observed\n",
    "\n",
    "6. FTABLE\n",
    "Used to determine critical \n",
    "\n",
    "7. DEGREES OF FREEDOM\n",
    "\n",
    "Model (Between Groups): k - 1\n",
    "Error (Within Groups): N - k\n",
    "Total (Combined): N - 1"
   ]
  },
  {
   "cell_type": "code",
   "execution_count": 5,
   "id": "ae3d263d",
   "metadata": {},
   "outputs": [
    {
     "name": "stdout",
     "output_type": "stream",
     "text": [
      "Index(['Power ', 'Etching Rate'], dtype='object')\n"
     ]
    }
   ],
   "source": [
    "print(data.columns)\n"
   ]
  },
  {
   "cell_type": "code",
   "execution_count": 17,
   "id": "126508f2",
   "metadata": {},
   "outputs": [],
   "source": [
    "# Removing extra space in column name\n",
    "data.columns = data.columns.str.strip()"
   ]
  },
  {
   "cell_type": "code",
   "execution_count": 18,
   "id": "c4b44ec4",
   "metadata": {},
   "outputs": [],
   "source": [
    "data['Etching Rate'] = pd.to_numeric(data['Etching Rate'], errors='coerce')\n"
   ]
  },
  {
   "cell_type": "code",
   "execution_count": 22,
   "id": "d8c5fce0",
   "metadata": {},
   "outputs": [
    {
     "name": "stdout",
     "output_type": "stream",
     "text": [
      "Index(['Power', 'Etching Rate'], dtype='object')\n"
     ]
    }
   ],
   "source": [
    "print(data.columns)"
   ]
  },
  {
   "cell_type": "code",
   "execution_count": 19,
   "id": "8c04760b",
   "metadata": {},
   "outputs": [
    {
     "name": "stderr",
     "output_type": "stream",
     "text": [
      "/Users/noelia.escobar/anaconda3/lib/python3.11/site-packages/scipy/stats/_stats_py.py:4133: DegenerateDataWarning: at least one input has length 0\n",
      "  warnings.warn(stats.DegenerateDataWarning('at least one input '\n"
     ]
    }
   ],
   "source": [
    "import pandas as pd\n",
    "from scipy.stats import f_oneway\n",
    "import matplotlib.pyplot as plt\n",
    "import seaborn as sns\n",
    "\n",
    "f_statistic, p_value = f_oneway(data['Etching Rate'][data['Power'] == 'Low'],\n",
    "                                 data['Etching Rate'][data['Power'] == 'Medium'],\n",
    "                                 data['Etching Rate'][data['Power'] == 'High'])\n"
   ]
  },
  {
   "cell_type": "code",
   "execution_count": 20,
   "id": "7a9ff544",
   "metadata": {},
   "outputs": [
    {
     "name": "stdout",
     "output_type": "stream",
     "text": [
      "F-Statistic: nan\n",
      "P-Value: nan\n"
     ]
    }
   ],
   "source": [
    "print(f'F-Statistic: {f_statistic}')\n",
    "print(f'P-Value: {p_value}')\n",
    "\n"
   ]
  },
  {
   "cell_type": "code",
   "execution_count": 21,
   "id": "1bc91aed",
   "metadata": {},
   "outputs": [
    {
     "data": {
      "image/png": "[encoded data removed]",
      "text/plain": [
       "<Figure size 1000x600 with 1 Axes>"
      ]
     },
     "metadata": {},
     "output_type": "display_data"
    }
   ],
   "source": [
    "plt.figure(figsize=(10, 6))\n",
    "sns.boxplot(x='Power', y='Etching Rate', data=data)\n",
    "plt.title('Boxplot of Etching Rate for Different Power Levels')\n",
    "plt.show()\n"
   ]
  },
  {
   "cell_type": "code",
   "execution_count": 25,
   "id": "6dcfd46f",
   "metadata": {},
   "outputs": [
    {
     "name": "stdout",
     "output_type": "stream",
     "text": [
      "There is not enough evidence to reject the null hypothesis.\n"
     ]
    }
   ],
   "source": [
    "# Set significance level\n",
    "alpha = 0.05\n",
    "\n",
    "# Draw conclusion based on p-value\n",
    "if p_value < alpha:\n",
    "    print(\"There is sufficient evidence to reject the null hypothesis.\")\n",
    "else:\n",
    "    print(\"There is not enough evidence to reject the null hypothesis.\")"
   ]
  },
  {
   "cell_type": "code",
   "execution_count": 30,
   "id": "535ce709",
   "metadata": {},
   "outputs": [
    {
     "data": {
      "text/html": [
       "<div>\n",
       "<style scoped>\n",
       "    .dataframe tbody tr th:only-of-type {\n",
       "        vertical-align: middle;\n",
       "    }\n",
       "\n",
       "    .dataframe tbody tr th {\n",
       "        vertical-align: top;\n",
       "    }\n",
       "\n",
       "    .dataframe thead th {\n",
       "        text-align: right;\n",
       "    }\n",
       "</style>\n",
       "<table border=\"1\" class=\"dataframe\">\n",
       "  <thead>\n",
       "    <tr style=\"text-align: right;\">\n",
       "      <th></th>\n",
       "      <th>sum_sq</th>\n",
       "      <th>df</th>\n",
       "      <th>F</th>\n",
       "      <th>PR(&gt;F)</th>\n",
       "    </tr>\n",
       "  </thead>\n",
       "  <tbody>\n",
       "    <tr>\n",
       "      <th>C(Power)</th>\n",
       "      <td>18.176653</td>\n",
       "      <td>2.0</td>\n",
       "      <td>36.878955</td>\n",
       "      <td>0.000008</td>\n",
       "    </tr>\n",
       "    <tr>\n",
       "      <th>Residual</th>\n",
       "      <td>2.957240</td>\n",
       "      <td>12.0</td>\n",
       "      <td>NaN</td>\n",
       "      <td>NaN</td>\n",
       "    </tr>\n",
       "  </tbody>\n",
       "</table>\n",
       "</div>"
      ],
      "text/plain": [
       "             sum_sq    df          F    PR(>F)\n",
       "C(Power)  18.176653   2.0  36.878955  0.000008\n",
       "Residual   2.957240  12.0        NaN       NaN"
      ]
     },
     "metadata": {},
     "output_type": "display_data"
    }
   ],
   "source": [
    "#Completing solution\n",
    "\n",
    "import pandas as pd\n",
    "import statsmodels.api as sm\n",
    "from statsmodels.formula.api import ols\n",
    "\n",
    "\n",
    "# Previous step: Renamed'Etching Rate' column to remove spaces\n",
    "data = data.rename(columns={'Etching Rate': 'EtchingRate'})\n",
    "\n",
    "# Previous step: Converted 'EtchingRate' to numeric (in case it's not)\n",
    "data['EtchingRate'] = pd.to_numeric(data['EtchingRate'], errors='coerce')\n",
    "\n",
    "# Performing ANOVA using statsmodels (sinc)\n",
    "model = ols('EtchingRate ~ C(Power)', data=data).fit()\n",
    "anova_table = sm.stats.anova_lm(model, typ=2)\n",
    "\n",
    "# Print ANOVA table\n",
    "display(anova_table)\n",
    "\n"
   ]
  },
  {
   "cell_type": "code",
   "execution_count": null,
   "id": "4ae9703e",
   "metadata": {},
   "outputs": [],
   "source": [
    "# F refers to F-statistic for the residual.\n",
    "#PR(>F)is the P-value associated with the residual F-statistic\n",
    "#based on the low p-value for the Power factor, we have evidence to suggest that changing the power of the plasma beam has a significant effect on the etching rate by the machine."
   ]
  }
 ],
 "metadata": {
  "kernelspec": {
   "display_name": "Python 3 (ipykernel)",
   "language": "python",
   "name": "python3"
  },
  "language_info": {
   "codemirror_mode": {
    "name": "ipython",
    "version": 3
   },
   "file_extension": ".py",
   "mimetype": "text/x-python",
   "name": "python",
   "nbconvert_exporter": "python",
   "pygments_lexer": "ipython3",
   "version": "3.11.7"
  }
 },
 "nbformat": 4,
 "nbformat_minor": 5
}

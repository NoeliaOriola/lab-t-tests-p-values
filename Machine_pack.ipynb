{
 "cells": [
  {
   "cell_type": "code",
   "execution_count": 4,
   "id": "05e6c988",
   "metadata": {},
   "outputs": [],
   "source": [
    "import pandas as pd\n",
    "import numpy as np\n",
    "from scipy.stats import ttest_ind\n"
   ]
  },
  {
   "cell_type": "code",
   "execution_count": 10,
   "id": "8682f6ad",
   "metadata": {},
   "outputs": [
    {
     "data": {
      "text/html": [
       "<div>\n",
       "<style scoped>\n",
       "    .dataframe tbody tr th:only-of-type {\n",
       "        vertical-align: middle;\n",
       "    }\n",
       "\n",
       "    .dataframe tbody tr th {\n",
       "        vertical-align: top;\n",
       "    }\n",
       "\n",
       "    .dataframe thead th {\n",
       "        text-align: right;\n",
       "    }\n",
       "</style>\n",
       "<table border=\"1\" class=\"dataframe\">\n",
       "  <thead>\n",
       "    <tr style=\"text-align: right;\">\n",
       "      <th></th>\n",
       "      <th>New machine</th>\n",
       "      <th>Old machine</th>\n",
       "    </tr>\n",
       "  </thead>\n",
       "  <tbody>\n",
       "    <tr>\n",
       "      <th>0</th>\n",
       "      <td>42.1</td>\n",
       "      <td>42.7</td>\n",
       "    </tr>\n",
       "    <tr>\n",
       "      <th>1</th>\n",
       "      <td>41.0</td>\n",
       "      <td>43.6</td>\n",
       "    </tr>\n",
       "    <tr>\n",
       "      <th>2</th>\n",
       "      <td>41.3</td>\n",
       "      <td>43.8</td>\n",
       "    </tr>\n",
       "    <tr>\n",
       "      <th>3</th>\n",
       "      <td>41.8</td>\n",
       "      <td>43.3</td>\n",
       "    </tr>\n",
       "    <tr>\n",
       "      <th>4</th>\n",
       "      <td>42.4</td>\n",
       "      <td>42.5</td>\n",
       "    </tr>\n",
       "  </tbody>\n",
       "</table>\n",
       "</div>"
      ],
      "text/plain": [
       "   New machine      Old machine\n",
       "0         42.1             42.7\n",
       "1         41.0             43.6\n",
       "2         41.3             43.8\n",
       "3         41.8             43.3\n",
       "4         42.4             42.5"
      ]
     },
     "execution_count": 10,
     "metadata": {},
     "output_type": "execute_result"
    }
   ],
   "source": [
    "import pandas as pd\n",
    "\n",
    "file_path = 'machine.txt'\n",
    "\n",
    "# Specifying the encoding\n",
    "encoding = 'utf-16'\n",
    "\n",
    "# Tab delimiter\n",
    "data = pd.read_csv(file_path, sep='\\t', encoding=encoding)\n",
    "\n",
    "data.head()\n",
    "\n"
   ]
  },
  {
   "cell_type": "code",
   "execution_count": 12,
   "id": "f1bacc23",
   "metadata": {},
   "outputs": [
    {
     "data": {
      "text/plain": [
       "(10, 2)"
      ]
     },
     "execution_count": 12,
     "metadata": {},
     "output_type": "execute_result"
    }
   ],
   "source": [
    "data.shape"
   ]
  },
  {
   "cell_type": "code",
   "execution_count": 15,
   "id": "3682b49d",
   "metadata": {},
   "outputs": [
    {
     "name": "stdout",
     "output_type": "stream",
     "text": [
      "Index(['New machine', '    Old machine'], dtype='object')\n"
     ]
    }
   ],
   "source": [
    "# Display the column names in the DataFrame\n",
    "print(data.columns)\n"
   ]
  },
  {
   "cell_type": "code",
   "execution_count": 17,
   "id": "8b051eed",
   "metadata": {},
   "outputs": [],
   "source": [
    "# Removing extra whitespace from column names\n",
    "data.columns = data.columns.str.strip()\n"
   ]
  },
  {
   "cell_type": "code",
   "execution_count": 19,
   "id": "0eb2a3d3",
   "metadata": {},
   "outputs": [
    {
     "name": "stdout",
     "output_type": "stream",
     "text": [
      "Test Statistic: -3.0614273841115844\n",
      "P-Value: 0.013540335651632521\n",
      "There is sufficient evidence to reject the null hypothesis.\n"
     ]
    }
   ],
   "source": [
    "#Testing hypothesis if new machines packs cartons faster on average than the current machines. \n",
    "\n",
    "new_machine_times = data['New machine']\n",
    "old_machine_times = data['Old machine']\n",
    "\n",
    "# Performing one-tailed paired t-test\n",
    "t_statistic, p_value = ttest_rel(new_machine_times, old_machine_times)\n",
    "\n",
    "# Print results\n",
    "print(f'Test Statistic: {t_statistic}')\n",
    "print(f'P-Value: {p_value}')\n",
    "\n",
    "# Check significance level\n",
    "alpha = 0.05\n",
    "if p_value < alpha:\n",
    "    print(\"There is sufficient evidence to reject the null hypothesis.\")\n",
    "else:\n",
    "    print(\"There is not enough evidence to reject the null hypothesis.\")\n"
   ]
  },
  {
   "cell_type": "code",
   "execution_count": 20,
   "id": "8f792dd4",
   "metadata": {},
   "outputs": [],
   "source": [
    "# the p-value is 0.0135 (is less than 005, which is less than 0.05. This indicates that there is sufficient evidence to reject the idea that there is no difference in packing times between the new and old machines.\n",
    "# there is evidence that the new machine packs cartons faster on average than the old machine."
   ]
  },
  {
   "cell_type": "code",
   "execution_count": null,
   "id": "ad423d6c",
   "metadata": {},
   "outputs": [],
   "source": [
    "# The negative test statistic, combined with the small p-value (0.0135), led to the rejection of the null hypothesis, providing evidence in favor of the alternative hypothesis that the new machine packs faster on average than the old machine."
   ]
  },
  {
   "cell_type": "code",
   "execution_count": null,
   "id": "7de5828c",
   "metadata": {},
   "outputs": [],
   "source": []
  }
 ],
 "metadata": {
  "kernelspec": {
   "display_name": "Python 3 (ipykernel)",
   "language": "python",
   "name": "python3"
  },
  "language_info": {
   "codemirror_mode": {
    "name": "ipython",
    "version": 3
   },
   "file_extension": ".py",
   "mimetype": "text/x-python",
   "name": "python",
   "nbconvert_exporter": "python",
   "pygments_lexer": "ipython3",
   "version": "3.11.7"
  }
 },
 "nbformat": 4,
 "nbformat_minor": 5
}
